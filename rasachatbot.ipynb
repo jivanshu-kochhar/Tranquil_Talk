{
 "cells": [
  {
   "cell_type": "code",
   "execution_count": 1,
   "id": "71a11c5c-9546-4eb9-8446-b96d5aabb7e6",
   "metadata": {
    "jupyter": {
     "outputs_hidden": false,
     "source_hidden": false
    },
    "noteable": {
     "cell_type": "code"
    }
   },
   "outputs": [],
   "source": [
    "## TEST AGAIN"
   ]
  },
  {
   "cell_type": "code",
   "execution_count": null,
   "id": "deea63c1-54a0-42c6-b151-6c0b4b53129f",
   "metadata": {
    "noteable": {
     "cell_type": "code"
    }
   },
   "outputs": [],
   "source": [
    "!pip install pandas\n",
    "import pandas as pd\n",
    "data = pd.read_csv('sampledata.csv')\n",
    "data.head()"
   ]
  },
  {
   "cell_type": "code",
   "execution_count": null,
   "id": "942ed9b3-f787-496f-84f9-0c93466bc9e4",
   "metadata": {
    "ExecuteTime": {
     "end_time": "2023-07-08T15:23:53.305773+00:00",
     "start_time": "2023-07-08T15:23:47.482861+00:00"
    },
    "noteable": {
     "cell_type": "code",
     "output_collection_id": "f2b9611a-6723-4094-8b38-6f14b7d1d5d1"
    }
   },
   "outputs": [],
   "source": [
    "!pip install matplotlib\n",
    "import matplotlib.pyplot as plt\n",
    "data['tag'].value_counts().plot(kind='bar')\n",
    "plt.title('Distribution of tags')\n",
    "plt.xlabel('Tag')\n",
    "plt.ylabel('Count')\n",
    "plt.show()\n",
    "data['question_length'] = data['question'].apply(len)\n",
    "data['answer_length'] = data['answer'].apply(len)\n",
    "data[['question_length', 'answer_length']].hist(bins=20, figsize=(12, 4), layout=(1, 2))\n",
    "plt.show()"
   ]
  },
  {
   "cell_type": "code",
   "execution_count": null,
   "id": "2b79c3c6-bdd6-4aa6-ae65-0062bb10a8ad",
   "metadata": {
    "ExecuteTime": {
     "end_time": "2023-07-08T15:24:10.386985+00:00",
     "start_time": "2023-07-08T15:24:10.173506+00:00"
    },
    "datalink": {
     "bb838200-e5e0-4386-b04b-c0a8f94cf62e": {
      "applied_filters": [],
      "dataframe_info": {
       "default_index_used": true,
       "orig_num_cols": 3,
       "orig_num_rows": 5,
       "orig_size_bytes": 160,
       "truncated_num_cols": 3,
       "truncated_num_rows": 5,
       "truncated_size_bytes": 160,
       "truncated_string_columns": []
      },
      "display_id": "bb838200-e5e0-4386-b04b-c0a8f94cf62e",
      "dx_settings": {
       "ALLOW_NOTEABLE_ATTRS": true,
       "COLUMN_SAMPLING_METHOD": "outer",
       "DB_LOCATION": ":memory:",
       "DEV_MODE": false,
       "DISPLAY_MAX_COLUMNS": 100,
       "DISPLAY_MAX_ROWS": 50000,
       "DISPLAY_MODE": "simple",
       "ENABLE_ASSIGNMENT": true,
       "ENABLE_DATALINK": true,
       "FLATTEN_COLUMN_VALUES": true,
       "FLATTEN_INDEX_VALUES": false,
       "GENERATE_DEX_METADATA": false,
       "HTML_TABLE_SCHEMA": false,
       "LOG_LEVEL": 30,
       "MAX_RENDER_SIZE_BYTES": 104857600,
       "MAX_STRING_LENGTH": 250,
       "NUM_PAST_SAMPLES_TRACKED": 3,
       "RANDOM_STATE": 12648430,
       "RESET_INDEX_VALUES": false,
       "ROW_SAMPLING_METHOD": "random",
       "SAMPLING_FACTOR": 0.1,
       "SAMPLING_METHOD": "random",
       "STRINGIFY_COLUMN_VALUES": true,
       "STRINGIFY_INDEX_VALUES": false
      },
      "sample_history": [],
      "sampling_time": "2023-07-08T15:24:10.229519",
      "user_variable_name": null,
      "variable_name": "unk_dataframe_77ab2f363f654b8eb667a04833d5ecce"
     }
    },
    "noteable": {
     "cell_type": "code",
     "output_collection_id": "645a8008-bee3-4aa1-a61c-a91f98d27150"
    }
   },
   "outputs": [],
   "source": [
    "import pandas as pd\n",
    "data = pd.read_csv('sampledata.csv')\n",
    "data.head()"
   ]
  },
  {
   "cell_type": "code",
   "execution_count": null,
   "id": "dd8b0ed2-333a-435f-a6f2-5476ef575f72",
   "metadata": {
    "ExecuteTime": {
     "end_time": "2023-07-08T15:24:47.723533+00:00",
     "start_time": "2023-07-08T15:24:46.468249+00:00"
    },
    "noteable": {
     "cell_type": "code",
     "output_collection_id": "9d3996d2-a8ca-4772-8782-d7df552e9fa2"
    }
   },
   "outputs": [],
   "source": [
    "import matplotlib.pyplot as plt\n",
    "data['tag'].value_counts().plot(kind='bar')\n",
    "plt.title('Distribution of tags')\n",
    "plt.xlabel('Tag')\n",
    "plt.ylabel('Count')\n",
    "plt.show()\n",
    "data['question_length'] = data['question'].apply(len)\n",
    "data['answer_length'] = data['answer'].apply(len)\n",
    "data[['question_length', 'answer_length']].hist(bins=20, figsize=(12, 4), layout=(1, 2))\n",
    "plt.show()"
   ]
  },
  {
   "cell_type": "code",
   "execution_count": null,
   "id": "f6297ebe-a21a-40e6-b1bb-e461e170cde6",
   "metadata": {
    "ExecuteTime": {
     "end_time": "2023-07-08T15:26:42.936259+00:00",
     "start_time": "2023-07-08T15:25:08.398149+00:00"
    },
    "noteable": {
     "cell_type": "code",
     "output_collection_id": "12cfecab-61b4-4fae-8415-d8b7a9cb3260"
    }
   },
   "outputs": [],
   "source": [
    "!pip install rasa"
   ]
  },
  {
   "cell_type": "code",
   "execution_count": null,
   "id": "5118f753-d361-4bd4-9c94-0e1a8902fe73",
   "metadata": {
    "ExecuteTime": {
     "end_time": "2023-07-08T15:28:08.586558+00:00",
     "start_time": "2023-07-08T15:28:08.269432+00:00"
    },
    "noteable": {
     "cell_type": "code",
     "output_collection_id": "ad3caa85-4fc2-4791-8bf5-b6e99e5bd686"
    }
   },
   "outputs": [],
   "source": [
    "import json\n",
    "\n",
    "def create_rasa_nlu_data(df):\n",
    "    data = {'rasa_nlu_data': {'common_examples': []}}\n",
    "    for index, row in df.iterrows():\n",
    "        data['rasa_nlu_data']['common_examples'].append(\n",
    "            {\n",
    "                'text': row['question'],\n",
    "                'intent': row['tag'],\n",
    "                'entities': []\n",
    "            }\n",
    "        )\n",
    "    return data\n",
    "\n",
    "rasa_nlu_data = create_rasa_nlu_data(data)\n",
    "with open('nlu_data.json', 'w') as outfile:\n",
    "    json.dump(rasa_nlu_data, outfile, indent=4)"
   ]
  },
  {
   "cell_type": "code",
   "execution_count": null,
   "id": "ebd9845a-a9d8-4e3a-9ca6-8cf1edffdef4",
   "metadata": {
    "ExecuteTime": {
     "end_time": "2023-07-08T15:28:11.696819+00:00",
     "start_time": "2023-07-08T15:28:11.538131+00:00"
    },
    "noteable": {
     "cell_type": "code",
     "output_collection_id": "dbf21674-0f4a-4013-9204-a1022eabc5b3"
    }
   },
   "outputs": [],
   "source": [
    "config = '''\n",
    "language: en\n",
    "pipeline:\n",
    "  - name: WhitespaceTokenizer\n",
    "  - name: RegexFeaturizer\n",
    "  - name: LexicalSyntacticFeaturizer\n",
    "  - name: CountVectorsFeaturizer\n",
    "  - name: CountVectorsFeaturizer\n",
    "    analyzer: char_wb\n",
    "    min_ngram: 1\n",
    "    max_ngram: 4\n",
    "  - name: DIETClassifier\n",
    "    epochs: 100\n",
    "  - name: EntitySynonymMapper\n",
    "  - name: ResponseSelector\n",
    "    epochs: 100\n",
    "policies:\n",
    "  - name: MemoizationPolicy\n",
    "  - name: TEDPolicy\n",
    "    max_history: 5\n",
    "    epochs: 100\n",
    "  - name: RulePolicy\n",
    "'''\n",
    "with open('config.yml', 'w') as f:\n",
    "    f.write(config)"
   ]
  },
  {
   "cell_type": "code",
   "execution_count": null,
   "id": "9b3b734c-1e3e-4378-9d46-b57875a2e93a",
   "metadata": {
    "jupyter": {
     "outputs_hidden": false,
     "source_hidden": false
    },
    "noteable": {
     "cell_type": "code"
    }
   },
   "outputs": [],
   "source": []
  },
  {
   "cell_type": "code",
   "execution_count": null,
   "id": "1c82cdc6-a08f-4026-8f90-2d9b241f7699",
   "metadata": {
    "ExecuteTime": {
     "end_time": "2023-07-08T15:28:54.952973+00:00",
     "start_time": "2023-07-08T15:28:54.119618+00:00"
    },
    "noteable": {
     "cell_type": "code",
     "output_collection_id": "360cbae6-8a3a-421a-b9d6-3496e22e5dbc"
    }
   },
   "outputs": [],
   "source": [
    "from rasa.nlu.training_data import load_data\n",
    "from rasa.nlu.config import RasaNLUModelConfig\n",
    "from rasa.nlu.model import Trainer\n",
    "from rasa.nlu import config\n",
    "\n",
    "training_data = load_data('nlu_data.json')\n",
    "trainer = Trainer(config.load('config.yml'))\n",
    "interpreter = trainer.train(training_data)"
   ]
  },
  {
   "cell_type": "code",
   "execution_count": null,
   "id": "08df4cfe-72cf-440a-8f09-09d2eb9757e8",
   "metadata": {
    "ExecuteTime": {
     "end_time": "2023-07-08T15:29:18.887571+00:00",
     "start_time": "2023-07-08T15:29:13.062292+00:00"
    },
    "noteable": {
     "cell_type": "code",
     "output_collection_id": "6edd5fde-1cce-4bcd-8b2d-a29c74036405"
    }
   },
   "outputs": [],
   "source": [
    "!pip install --upgrade packaging"
   ]
  },
  {
   "cell_type": "code",
   "execution_count": null,
   "id": "8ac37655-404a-4fb3-bb5d-d548d91b4ebb",
   "metadata": {
    "ExecuteTime": {
     "end_time": "2023-07-08T15:29:39.773860+00:00",
     "start_time": "2023-07-08T15:29:39.320059+00:00"
    },
    "noteable": {
     "cell_type": "code",
     "output_collection_id": "47ca50fd-ba61-44c2-9a43-52ac96c23326"
    }
   },
   "outputs": [],
   "source": [
    "from rasa.nlu.training_data import load_data\n",
    "from rasa.nlu.config import RasaNLUModelConfig\n",
    "from rasa.nlu.model import Trainer\n",
    "from rasa.nlu import config\n",
    "\n",
    "training_data = load_data('nlu_data.json')\n",
    "trainer = Trainer(config.load('config.yml'))\n",
    "interpreter = trainer.train(training_data)"
   ]
  },
  {
   "cell_type": "code",
   "execution_count": null,
   "id": "9273a1dc-53f2-4a4b-a8b7-48f4f3c67d85",
   "metadata": {
    "ExecuteTime": {
     "end_time": "2023-07-08T15:30:00.373117+00:00",
     "start_time": "2023-07-08T15:29:54.733275+00:00"
    },
    "noteable": {
     "cell_type": "code",
     "output_collection_id": "567c5f2a-4132-4e05-ad7e-9445da566702"
    }
   },
   "outputs": [],
   "source": [
    "!pip install --upgrade packaging"
   ]
  },
  {
   "cell_type": "code",
   "execution_count": null,
   "id": "d933a29a-7400-4e4e-a317-53220a3e502c",
   "metadata": {
    "ExecuteTime": {
     "end_time": "2023-07-08T15:30:20.405514+00:00",
     "start_time": "2023-07-08T15:30:19.955843+00:00"
    },
    "noteable": {
     "cell_type": "code",
     "output_collection_id": "d7a0d25e-c653-44d6-b1ac-cb2ad0f48f81"
    }
   },
   "outputs": [],
   "source": [
    "from rasa.nlu.training_data import load_data\n",
    "from rasa.nlu.config import RasaNLUModelConfig\n",
    "from rasa.nlu.model import Trainer\n",
    "from rasa.nlu import config\n",
    "\n",
    "training_data = load_data('nlu_data.json')\n",
    "trainer = Trainer(config.load('config.yml'))\n",
    "interpreter = trainer.train(training_data)"
   ]
  },
  {
   "cell_type": "code",
   "execution_count": null,
   "id": "a81c1d94-cbcf-4ca2-bd0d-6954acda2969",
   "metadata": {
    "ExecuteTime": {
     "end_time": "2023-07-08T15:30:49.431008+00:00",
     "start_time": "2023-07-08T15:30:43.884890+00:00"
    },
    "noteable": {
     "cell_type": "code",
     "output_collection_id": "410c3454-23ca-478d-aa98-bbe1de014bbd"
    }
   },
   "outputs": [],
   "source": [
    "!pip install --upgrade packaging"
   ]
  },
  {
   "cell_type": "code",
   "execution_count": null,
   "id": "660bc2dc-ed4d-41b7-84e6-3a2e3baf6d57",
   "metadata": {
    "ExecuteTime": {
     "end_time": "2023-07-08T15:31:06.492171+00:00",
     "start_time": "2023-07-08T15:31:06.043692+00:00"
    },
    "noteable": {
     "cell_type": "code",
     "output_collection_id": "1206b1ed-20b4-4928-8378-a62bce3a9df4"
    }
   },
   "outputs": [],
   "source": [
    "from rasa.nlu.training_data import load_data\n",
    "from rasa.nlu.config import RasaNLUModelConfig\n",
    "from rasa.nlu.model import Trainer\n",
    "from rasa.nlu import config\n",
    "\n",
    "training_data = load_data('nlu_data.json')\n",
    "trainer = Trainer(config.load('config.yml'))\n",
    "interpreter = trainer.train(training_data)"
   ]
  },
  {
   "cell_type": "code",
   "execution_count": null,
   "id": "538985c1-3b78-422f-8e05-a6ca11d8fe27",
   "metadata": {
    "ExecuteTime": {
     "end_time": "2023-07-08T15:31:28.024177+00:00",
     "start_time": "2023-07-08T15:31:22.489359+00:00"
    },
    "noteable": {
     "cell_type": "code",
     "output_collection_id": "67ac7472-f661-478e-bf38-68b9b596d2f9"
    }
   },
   "outputs": [],
   "source": [
    "!pip install --upgrade packaging"
   ]
  },
  {
   "cell_type": "code",
   "execution_count": null,
   "id": "74df7917-edc3-4ae9-b7f7-1cfb03182b4c",
   "metadata": {
    "ExecuteTime": {
     "end_time": "2023-07-08T15:31:48.520148+00:00",
     "start_time": "2023-07-08T15:31:48.063401+00:00"
    },
    "noteable": {
     "cell_type": "code",
     "output_collection_id": "1034a280-0542-4ccf-afb3-e8ee882bc9de"
    }
   },
   "outputs": [],
   "source": [
    "from rasa.nlu.training_data import load_data\n",
    "from rasa.nlu.config import RasaNLUModelConfig\n",
    "from rasa.nlu.model import Trainer\n",
    "from rasa.nlu import config\n",
    "\n",
    "training_data = load_data('nlu_data.json')\n",
    "trainer = Trainer(config.load('config.yml'))\n",
    "interpreter = trainer.train(training_data)"
   ]
  },
  {
   "cell_type": "code",
   "execution_count": null,
   "id": "4f6d7a44-6675-48a0-8907-90dc0b468bb4",
   "metadata": {
    "ExecuteTime": {
     "end_time": "2023-07-08T15:32:11.624745+00:00",
     "start_time": "2023-07-08T15:32:06.109935+00:00"
    },
    "noteable": {
     "cell_type": "code",
     "output_collection_id": "38ff7478-e708-4dfc-988e-c4c650d64206"
    }
   },
   "outputs": [],
   "source": [
    "!pip install --upgrade packaging"
   ]
  },
  {
   "cell_type": "code",
   "execution_count": null,
   "id": "cd22b4d4-1398-4915-8c49-7a63fbb68382",
   "metadata": {
    "ExecuteTime": {
     "end_time": "2023-07-08T15:32:31.562108+00:00",
     "start_time": "2023-07-08T15:32:31.109544+00:00"
    },
    "noteable": {
     "cell_type": "code",
     "output_collection_id": "6ac7073d-6ba8-4c45-8f28-cc2b184e711e"
    }
   },
   "outputs": [],
   "source": [
    "from rasa.nlu.training_data import load_data\n",
    "from rasa.nlu.config import RasaNLUModelConfig\n",
    "from rasa.nlu.model import Trainer\n",
    "from rasa.nlu import config\n",
    "\n",
    "training_data = load_data('nlu_data.json')\n",
    "trainer = Trainer(config.load('config.yml'))\n",
    "interpreter = trainer.train(training_data)"
   ]
  },
  {
   "cell_type": "code",
   "execution_count": null,
   "id": "fc37b239-f551-4418-977a-c9fca49e9a0e",
   "metadata": {
    "ExecuteTime": {
     "end_time": "2023-07-08T15:44:10.272771+00:00",
     "start_time": "2023-07-08T15:44:10.095479+00:00"
    },
    "noteable": {
     "cell_type": "code",
     "output_collection_id": "204fd7c7-54f6-4e64-b759-9a5645af874f"
    }
   },
   "outputs": [],
   "source": [
    "response_dict = df.set_index('tag')['answer'].to_dict()"
   ]
  },
  {
   "cell_type": "code",
   "execution_count": null,
   "id": "57670aa7-872a-4c13-9e7b-3eed9c0cf196",
   "metadata": {
    "ExecuteTime": {
     "end_time": "2023-07-08T15:44:27.099095+00:00",
     "start_time": "2023-07-08T15:44:26.937196+00:00"
    },
    "noteable": {
     "cell_type": "code",
     "output_collection_id": "fe154d35-5317-47e3-8798-6bd88398fd2f"
    }
   },
   "outputs": [],
   "source": [
    "response_dict = data.set_index('tag')['answer'].to_dict()"
   ]
  },
  {
   "cell_type": "code",
   "execution_count": null,
   "id": "a8543328-2b0c-4388-a264-854957f321e0",
   "metadata": {
    "ExecuteTime": {
     "end_time": "2023-07-08T15:45:03.867433+00:00",
     "start_time": "2023-07-08T15:45:03.709346+00:00"
    },
    "noteable": {
     "cell_type": "code",
     "output_collection_id": "5178b6f5-42d6-480c-a498-24290390b86f"
    }
   },
   "outputs": [],
   "source": [
    "def get_response(user_input):\n",
    "    # Predict the intent of the user input\n",
    "    # Due to the error in the previous cell, we can't use the RASA NLU model\n",
    "    # Instead, we'll use a simple rule-based approach\n",
    "    # We'll select the intent that has the highest Jaccard similarity with the user input\n",
    "    user_input_set = set(user_input.lower().split())\n",
    "    scores = {}\n",
    "    for intent in response_dict.keys():\n",
    "        intent_set = set(intent.lower().split())\n",
    "        scores[intent] = len(user_input_set & intent_set) / len(user_input_set | intent_set)\n",
    "    predicted_intent = max(scores, key=scores.get)\n",
    "\n",
    "    # Select a response based on the predicted intent\n",
    "    response = response_dict[predicted_intent]\n",
    "    return response"
   ]
  },
  {
   "cell_type": "code",
   "execution_count": null,
   "id": "9fba7c7e-b487-42e0-a03f-1b7ca0540aed",
   "metadata": {
    "ExecuteTime": {
     "end_time": "2023-07-08T15:45:52.566003+00:00",
     "start_time": "2023-07-08T15:45:52.409331+00:00"
    },
    "noteable": {
     "cell_type": "code",
     "output_collection_id": "732ebdba-d84a-47c5-9992-8d329940e7b7"
    }
   },
   "outputs": [],
   "source": [
    "def chatbot(user_input):\n",
    "    response = get_response(user_input)\n",
    "    return response"
   ]
  },
  {
   "cell_type": "code",
   "execution_count": null,
   "id": "c5a97795-45ee-4313-8759-d9c590e455b3",
   "metadata": {
    "ExecuteTime": {
     "end_time": "2023-07-08T15:46:21.068222+00:00",
     "start_time": "2023-07-08T15:46:20.909720+00:00"
    },
    "noteable": {
     "cell_type": "code",
     "output_collection_id": "6ac7594a-1101-40c0-9779-1249d4138ca4"
    }
   },
   "outputs": [],
   "source": [
    "user_input = 'What is a panic attack?'\n",
    "response = chatbot(user_input)\n",
    "print('User input: ' + user_input)\n",
    "print('Chatbot response: ' + response)"
   ]
  }
 ],
 "metadata": {
  "kernelspec": {
   "display_name": "Python 3 (ipykernel)",
   "language": "python",
   "name": "python3"
  },
  "language_info": {
   "codemirror_mode": {
    "name": "ipython",
    "version": 3
   },
   "file_extension": ".py",
   "mimetype": "text/x-python",
   "name": "python",
   "nbconvert_exporter": "python",
   "pygments_lexer": "ipython3",
   "version": "3.10.9"
  },
  "noteable": {
   "last_transaction_id": "d4d8b4b2-f869-465b-ab8e-826d00dec1c1"
  },
  "noteable-chatgpt": {
   "create_notebook": {
    "openai_conversation_id": "66ab9a76-5892-55eb-8445-516c23882f21",
    "openai_ephemeral_user_id": "1f9a6533-5373-5b13-9924-c482da7311a5"
   }
  },
  "selected_hardware_size": "small"
 },
 "nbformat": 4,
 "nbformat_minor": 5
}
